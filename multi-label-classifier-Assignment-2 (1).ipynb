{
 "cells": [
  {
   "cell_type": "markdown",
   "metadata": {},
   "source": [
    "Multi-Label-Classifier is an assignment task given under Text Mining during my Master's Degree subject. \n",
    "The task was to develop a model that can predict the label of the article provided from Reuters Dataset and to check the performance parameters for the developed model."
   ]
  },
  {
   "cell_type": "code",
   "execution_count": 10,
   "metadata": {},
   "outputs": [],
   "source": [
    "from nltk.corpus import stopwords, reuters\n",
    "from sklearn.feature_extraction.text import TfidfVectorizer\n",
    "from sklearn.preprocessing import MultiLabelBinarizer\n",
    "from sklearn.svm import LinearSVC\n",
    "from sklearn.multiclass import OneVsRestClassifier\n",
    "stop_words = stopwords.words(\"english\") #getting the stropwords\n",
    "\n",
    "# install numpy \n",
    "try:\n",
    "    import numpy as np\n",
    "except ModuleNotFoundError:\n",
    "    !pip install numpy\n"
   ]
  },
  {
   "cell_type": "code",
   "execution_count": 11,
   "metadata": {},
   "outputs": [],
   "source": [
    "# Record test id's of train and test documnet files. Use id's to import data.\n",
    "\n",
    "documents = reuters.fileids()\n",
    "train_document_idNum = list(filter(lambda doc: doc.startswith(\"train\"),documents))\n",
    "test_document_idNum = list(filter(lambda doc: doc.startswith(\"test\"),documents))\n",
    "train_documents = [reuters.raw(doc_id) for doc_id in train_document_idNum]\n",
    "test_documents = [reuters.raw(doc_id) for doc_id in test_document_idNum]"
   ]
  },
  {
   "cell_type": "code",
   "execution_count": 12,
   "metadata": {},
   "outputs": [],
   "source": [
    "# define the \"Tokenize\" function.\n",
    "\n",
    "from nltk import word_tokenize\n",
    "from nltk.stem.porter import PorterStemmer\n",
    "from nltk.corpus import stopwords\n",
    "import re\n",
    " \n",
    "cachedStopWords = stopwords.words(\"english\")\n",
    "def tokenize(text):\n",
    "  min_length = 3\n",
    "  words = map(lambda word: word.lower(), word_tokenize(text))\n",
    "  words = [word for word in words if word not in cachedStopWords]\n",
    "  tokens = (list(map(lambda token: PorterStemmer().stem(token),words)))\n",
    "  p = re.compile('[a-zA-Z]+');\n",
    "  filtered_tokens = list(filter (lambda token: p.match(token) and len(token) >= min_length,tokens))\n",
    "  return filtered_tokens"
   ]
  },
  {
   "cell_type": "code",
   "execution_count": 13,
   "metadata": {},
   "outputs": [
    {
     "name": "stderr",
     "output_type": "stream",
     "text": [
      "C:\\ProgramData\\Anaconda3\\lib\\site-packages\\sklearn\\feature_extraction\\text.py:300: UserWarning: Your stop_words may be inconsistent with your preprocessing. Tokenizing the stop words generated tokens ['could', 'might', 'must', \"n't\", 'need', 'sha', 'would'] not in stop_words.\n",
      "  'stop_words.' % sorted(inconsistent))\n"
     ]
    }
   ],
   "source": [
    "# Tokenize, TDIDF the document and creat matrix on train and test data. test data is used to fit.\n",
    "\n",
    "vector = TfidfVectorizer(stop_words=stop_words,tokenizer=tokenize)\n",
    "vectored_train_docs = vector.fit_transform(train_documents)\n",
    "vectored_test_docs = vector.transform(test_documents) "
   ]
  },
  {
   "cell_type": "code",
   "execution_count": 14,
   "metadata": {},
   "outputs": [],
   "source": [
    "# Create matrix of labels for the train and test data.\n",
    "\n",
    "mlb = MultiLabelBinarizer()\n",
    "train_docs_labels = mlb.fit_transform([reuters.categories(doc_id) for doc_id in train_document_idNum])\n",
    "test_docs_labels = mlb.transform([reuters.categories(doc_id) for doc_id in test_document_idNum]) "
   ]
  },
  {
   "cell_type": "code",
   "execution_count": 15,
   "metadata": {},
   "outputs": [],
   "source": [
    "# Train the classifier and make the predictions.\n",
    "\n",
    "classifier = OneVsRestClassifier(LinearSVC(random_state=42))\n",
    "classifier.fit(vectored_train_docs, train_docs_labels) \n",
    "prediction_value = classifier.predict(vectored_test_docs)"
   ]
  },
  {
   "cell_type": "code",
   "execution_count": 16,
   "metadata": {},
   "outputs": [
    {
     "name": "stdout",
     "output_type": "stream",
     "text": [
      "Micro-average Evaluation:\n",
      "\n",
      "Precision: 0.945\n",
      "Recall: 0.801 \n",
      "F1-measure: 0.867\n",
      "\n",
      "Macro-average Evaluation:\n",
      "\n",
      "Precision: 0.649 \n",
      "Recall: 0.395 \n",
      "F1-measure: 0.466\n",
      "\n"
     ]
    },
    {
     "name": "stderr",
     "output_type": "stream",
     "text": [
      "C:\\ProgramData\\Anaconda3\\lib\\site-packages\\sklearn\\metrics\\classification.py:1437: UndefinedMetricWarning: Precision is ill-defined and being set to 0.0 in labels with no predicted samples.\n",
      "  'precision', 'predicted', average, warn_for)\n",
      "C:\\ProgramData\\Anaconda3\\lib\\site-packages\\sklearn\\metrics\\classification.py:1437: UndefinedMetricWarning: F-score is ill-defined and being set to 0.0 in labels with no predicted samples.\n",
      "  'precision', 'predicted', average, warn_for)\n"
     ]
    }
   ],
   "source": [
    "# Calculate the performance parameters.\n",
    "\n",
    "\n",
    "from sklearn.metrics import f1_score, precision_score, recall_score\n",
    "precision = precision_score(test_docs_labels, prediction_value, average='micro')\n",
    "recall = recall_score(test_docs_labels, prediction_value, average='micro')\n",
    "f1 = f1_score(test_docs_labels, prediction_value, average='micro')\n",
    "print(\"Micro-average Evaluation:\")\n",
    "print(\"\\nPrecision: {:.3f}\\nRecall: {:.3f} \\nF1-measure: {:.3f}\\n\" .format(precision, recall, f1)) \n",
    "precision = precision_score(test_docs_labels, prediction_value, average='macro')\n",
    "recall = recall_score(test_docs_labels, prediction_value, average='macro')\n",
    "f1 = f1_score(test_docs_labels, prediction_value, average='macro') \n",
    "print(\"Macro-average Evaluation:\")\n",
    "print(\"\\nPrecision: {:.3f} \\nRecall: {:.3f} \\nF1-measure: {:.3f}\\n\" .format(precision, recall, f1))"
   ]
  },
  {
   "cell_type": "markdown",
   "metadata": {},
   "source": [
    "Report of Performance -\n",
    "Evaluation displaying high F1 score on micro-average of 86.7% but F1 score on macro-average is 46.6% which is too less when compared to micro-average. It means Classifier is good for overall classification of Datum but is not efficient for certain class."
   ]
  },
  {
   "cell_type": "code",
   "execution_count": 17,
   "metadata": {},
   "outputs": [
    {
     "name": "stdout",
     "output_type": "stream",
     "text": [
      "[('nickel', 'trade')]\n"
     ]
    }
   ],
   "source": [
    "# Pipeline accepting text as input and predicting the class.\n",
    "\n",
    "ip_text = \"\"\" Trading nickel was one of the important step of industrialization. Trade increased with \n",
    "                the gloabalization. \"\"\"\n",
    "\n",
    "vectored_ip_text = vector.transform([ip_text])\n",
    "predict_vectored_ip_text = classifier.predict(vectored_ip_text)\n",
    "label_ip_text = mlb.inverse_transform(np.array(predict_vectored_ip_text))\n",
    "print(label_ip_text)"
   ]
  },
  {
   "cell_type": "code",
   "execution_count": 9,
   "metadata": {},
   "outputs": [],
   "source": []
  },
  {
   "cell_type": "code",
   "execution_count": null,
   "metadata": {},
   "outputs": [],
   "source": []
  }
 ],
 "metadata": {
  "kernelspec": {
   "display_name": "Python 3",
   "language": "python",
   "name": "python3"
  },
  "language_info": {
   "codemirror_mode": {
    "name": "ipython",
    "version": 3
   },
   "file_extension": ".py",
   "mimetype": "text/x-python",
   "name": "python",
   "nbconvert_exporter": "python",
   "pygments_lexer": "ipython3",
   "version": "3.7.3"
  }
 },
 "nbformat": 4,
 "nbformat_minor": 2
}
